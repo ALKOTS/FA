{
 "cells": [
  {
   "cell_type": "markdown",
   "metadata": {},
   "source": [
    "Контрольная работа\n",
    "Данилин А.А ПИ19-3\n",
    "Вариант 56 "
   ]
  },
  {
   "cell_type": "code",
   "execution_count": 10,
   "metadata": {},
   "outputs": [],
   "source": [
    "from functools import lru_cache\n",
    "import numpy as np"
   ]
  },
  {
   "cell_type": "markdown",
   "metadata": {},
   "source": [
    "Задание 1\n",
    "\n",
    "Система имеем 15 дискретных состояний. Изменение состояний происходит в дискретные моменты времени с заданной вероятность. "
   ]
  },
  {
   "cell_type": "code",
   "execution_count": 11,
   "metadata": {},
   "outputs": [],
   "source": [
    "def t_prob(matrix, step):                                     \n",
    "    return np.linalg.matrix_power(matrix, step)\n",
    "\n",
    "\n",
    "\n",
    "def makyr(step):\n",
    "    return probbb(matrix, step) - sum([makyr(m) * probbb(matrix, step - m) for m in range(1, step)])\n",
    "\n",
    "\n",
    "\n",
    "def makyr2(step):\n",
    "    res = probbb(matrix, step) - sum([makyr2(m) * probbb(matrix, step - m) for m in range(1, step)])\n",
    "    result.append(np.diagonal(res))\n",
    "    return res\n",
    "\n",
    "\n",
    "@lru_cache(maxsize=None)\n",
    "def makyr3(step):\n",
    "    res = probbb(matrix, step) - sum([makyr3(m) * probbb(matrix, step - m) for m in range(1, step)])\n",
    "    result.append(step * np.diagonal(res))\n",
    "    return res\n",
    "\n",
    "\n",
    "def mat_power_skip(left, right):   \n",
    "    rn = range(len(left))\n",
    "    return np.array([[sum(left[i, m] * right[m, j] if m != j else 0 for m in rn) for j in rn] for i in rn])\n",
    "\n",
    "def matrix_printer(matrix):\n",
    "    for row in matrix:\n",
    "        ryad=''\n",
    "        for digit in row:\n",
    "            if(digit==0):\n",
    "                digit=int(digit)\n",
    "            ryad+=str(digit)+', '\n",
    "        print(ryad[:-2:])"
   ]
  },
  {
   "cell_type": "markdown",
   "metadata": {},
   "source": [
    "Схема марковского процесса изображена на рисунке. "
   ]
  },
  {
   "cell_type": "code",
   "execution_count": 12,
   "metadata": {},
   "outputs": [
    {
     "name": "stdout",
     "output_type": "stream",
     "text": [
      "Матрица переходов:\n",
      "0.35, 0, 0, 0, 0.63, 0.02, 0, 0, 0, 0, 0, 0, 0, 0, 0\n",
      "0, 0.38, 0, 0.23, 0, 0.39, 0, 0, 0, 0, 0, 0, 0, 0, 0\n",
      "0, 0, 0.25, 0.17, 0.26, 0.05, 0.27, 0, 0, 0, 0, 0, 0, 0, 0\n",
      "0.17, 0.03, 0, 0.29, 0.42, 0, 0, 0.09, 0, 0, 0, 0, 0, 0, 0\n",
      "0.21, 0.15, 0.14, 0.15, 0.14, 0, 0, 0.19, 0.02, 0, 0, 0, 0, 0, 0\n",
      "0, 0, 0.16, 0, 0.01, 0.05, 0, 0.35, 0.43, 0, 0, 0, 0, 0, 0\n",
      "0, 0, 0.4, 0, 0, 0.28, 0.05, 0.27, 0, 0, 0, 0, 0, 0, 0\n",
      "0, 0, 0, 0, 0.04, 0, 0, 0.42, 0.08, 0.21, 0.17, 0, 0.08, 0, 0\n",
      "0, 0, 0, 0.03, 0, 0.27, 0, 0, 0.04, 0.23, 0, 0.36, 0.07, 0, 0\n",
      "0, 0, 0, 0, 0, 0, 0, 0, 0.45, 0.06, 0, 0, 0, 0.49, 0\n",
      "0, 0, 0, 0, 0, 0, 0, 0, 0.26, 0.23, 0.32, 0, 0, 0, 0.19\n",
      "0, 0, 0, 0, 0, 0, 0, 0, 0, 0, 0, 0.09, 0.33, 0.58, 0\n",
      "0, 0, 0, 0, 0, 0, 0, 0, 0.77, 0, 0, 0, 0.08, 0.15, 0\n",
      "0, 0, 0, 0, 0, 0, 0, 0, 0, 0.32, 0, 0.49, 0.12, 0.07, 0\n",
      "0, 0, 0, 0, 0, 0, 0, 0, 0, 0.11, 0.04, 0.38, 0, 0.42, 0.05\n"
     ]
    }
   ],
   "source": [
    "trans_mat = np.array([\n",
    "    [0.35, 0, 0, 0, 0.63, 0.02, 0, 0, 0, 0, 0, 0, 0, 0, 0],\n",
    "    [0, 0.38, 0, 0.23, 0, 0.39, 0, 0, 0, 0, 0, 0, 0, 0, 0],\n",
    "    [0, 0, 0.25, 0.17, 0.26, 0.05, 0.27, 0, 0, 0, 0, 0, 0, 0, 0],\n",
    "    [0.17, 0.03, 0, 0.29, 0.42, 0, 0, 0.09, 0, 0, 0, 0, 0, 0, 0],\n",
    "    [0.21, 0.15, 0.14, 0.15, 0.14, 0, 0, 0.19, 0.02, 0, 0, 0, 0, 0, 0],\n",
    "    [0, 0, 0.16, 0, 0.01, 0.05, 0, 0.35, 0.43, 0, 0, 0, 0, 0, 0],\n",
    "    [0, 0, 0.4, 0, 0, 0.28, 0.05, 0.27, 0, 0, 0, 0, 0, 0, 0],\n",
    "    [0, 0, 0, 0, 0.04, 0, 0, 0.42, 0.08, 0.21, 0.17, 0, 0.08, 0, 0],\n",
    "    [0, 0, 0, 0.03, 0, 0.27, 0, 0, 0.04, 0.23, 0, 0.36, 0.07, 0, 0],\n",
    "    [0, 0, 0, 0, 0, 0, 0, 0, 0.45, 0.06, 0, 0, 0, 0.49, 0],\n",
    "    [0, 0, 0, 0, 0, 0, 0, 0, 0.26, 0.23, 0.32, 0, 0, 0, 0.19],\n",
    "    [0, 0, 0, 0, 0, 0, 0, 0, 0, 0, 0, 0.09, 0.33, 0.58, 0],\n",
    "    [0, 0, 0, 0, 0, 0, 0, 0, 0.77, 0, 0, 0, 0.08, 0.15, 0],\n",
    "    [0, 0, 0, 0, 0, 0, 0, 0, 0, 0.32, 0, 0.49, 0.12, 0.07, 0],\n",
    "    [0, 0, 0, 0, 0, 0, 0, 0, 0, 0.11, 0.04, 0.38, 0, 0.42, 0.05],\n",
    "])\n",
    "\n",
    "print(\"Матрица переходов:\")\n",
    "matrix_printer(trans_mat)"
   ]
  },
  {
   "cell_type": "markdown",
   "metadata": {},
   "source": [
    "Требуется определить:"
   ]
  },
  {
   "cell_type": "code",
   "execution_count": 13,
   "metadata": {},
   "outputs": [
    {
     "name": "stdout",
     "output_type": "stream",
     "text": [
      "\n",
      "1. вероятность того, что за 7 шагов система перейдет из состояния 2 в состояние 5:\n",
      "0.09210076038103998\n"
     ]
    }
   ],
   "source": [
    "#1\n",
    "step, state_1, state_2 = 7, 2, 5\n",
    "\n",
    "print(f\"\\n1. вероятность того, что за {step} шагов система перейдет из состояния {state_1} в состояние {state_2}:\")\n",
    "print(np.linalg.matrix_power(trans_mat, step)[state_1 - 1, state_2 - 1])"
   ]
  },
  {
   "cell_type": "code",
   "execution_count": 14,
   "metadata": {},
   "outputs": [
    {
     "name": "stdout",
     "output_type": "stream",
     "text": [
      "\n",
      "2. вероятности состояний системы спустя 7 шагов, если в начальный момент вероятность состояний были следующими step=[0.09 0.04 0.17 0.01 0.1  0.14 0.   0.11 0.02 0.11 0.09 0.05 0.04 0.03\n",
      " 0.  ]:\n",
      "[0.03540508 0.02028711 0.03222622 0.0379625  0.06426279 0.05743589\n",
      " 0.0098255  0.0729988  0.15594062 0.10763332 0.02040122 0.13665859\n",
      " 0.08560553 0.15890087 0.00445594]\n"
     ]
    }
   ],
   "source": [
    "#2\n",
    "step = 7\n",
    "A = np.array([0.09, 0.04, 0.17, 0.01, 0.1, 0.14, 0, 0.11, 0.02, 0.11, 0.09, 0.05, 0.04, 0.03, 0])\n",
    "print(f\"\\n2. вероятности состояний системы спустя {step} шагов, если в начальный \"\n",
    "      f\"момент вероятность состояний были следующими step={A}:\")\n",
    "print((A.dot(np.linalg.matrix_power(trans_mat, step))))"
   ]
  },
  {
   "cell_type": "code",
   "execution_count": 15,
   "metadata": {},
   "outputs": [
    {
     "name": "stdout",
     "output_type": "stream",
     "text": [
      "\n",
      "3. вероятность первого перехода за 6 шагов из состояния 2 в состояние 14:\n",
      "0.07356314260000002\n"
     ]
    }
   ],
   "source": [
    "#3\n",
    "step, state_1, state_2 = 6, 2, 14\n",
    "prev = np.copy(trans_mat)\n",
    "for i in range(step - 1):\n",
    "    prev = mat_power_skip(trans_mat, prev)\n",
    "print(f\"\\n3. вероятность первого перехода за {step} шагов из состояния {state_1} в состояние {state_2}:\")\n",
    "print((prev[state_1 - 1, state_2 - 1]))"
   ]
  },
  {
   "cell_type": "code",
   "execution_count": 16,
   "metadata": {},
   "outputs": [
    {
     "name": "stdout",
     "output_type": "stream",
     "text": [
      "\n",
      "4. вероятность перехода из состояния 3 в состояние 5 не позднее чем за 8 шагов:\n",
      "0.6740083510909156\n"
     ]
    }
   ],
   "source": [
    "#4\n",
    "\n",
    "step, state_1, state_2 = 8, 3, 5\n",
    "prev, res = np.copy(trans_mat), np.copy(trans_mat)\n",
    "for i in range(step - 1):\n",
    "    prev = mat_power_skip(trans_mat, prev)\n",
    "    res += prev\n",
    "print(f\"\\n4. вероятность перехода из состояния {state_1} в состояние {state_2} не позднее чем за {step} шагов:\")\n",
    "print((res[state_1 - 1, state_2 - 1]))"
   ]
  },
  {
   "cell_type": "code",
   "execution_count": 17,
   "metadata": {},
   "outputs": [
    {
     "name": "stdout",
     "output_type": "stream",
     "text": [
      "\n",
      "5. среднее количество шагов для перехода из состояния 12 в состояние 8:\n",
      "33.374873235410774\n"
     ]
    }
   ],
   "source": [
    "#5\n",
    "\n",
    "state_1, state_2 = 12, 8\n",
    "prev, res = np.copy(trans_mat), np.copy(trans_mat)\n",
    "for i in range(993):\n",
    "    prev = mat_power_skip(trans_mat, prev)\n",
    "    res += i * prev\n",
    "print(f\"\\n5. среднее количество шагов для перехода из состояния {state_1} в состояние {state_2}:\")\n",
    "print((res[state_1 - 1, state_2 - 1]))"
   ]
  },
  {
   "cell_type": "code",
   "execution_count": 18,
   "metadata": {},
   "outputs": [
    {
     "name": "stdout",
     "output_type": "stream",
     "text": [
      "\n",
      "6. вероятность первого возвращения в состояние 9 за 7 шагов:\n",
      "0.05418169274059001\n"
     ]
    }
   ],
   "source": [
    "#6\n",
    "\n",
    "step, state_1 = 7, 9\n",
    "\n",
    "matrix = np.copy(trans_mat)\n",
    "probbb = t_prob\n",
    "\n",
    "\n",
    "print(f\"\\n6. вероятность первого возвращения в состояние {state_1} за {step} шагов:\")\n",
    "print((np.diagonal(makyr(step))[state_1 - 1]))"
   ]
  },
  {
   "cell_type": "code",
   "execution_count": 19,
   "metadata": {},
   "outputs": [
    {
     "name": "stdout",
     "output_type": "stream",
     "text": [
      "\n",
      "7. вероятность возвращения в состояние 14 не позднее чем за 6 шагов\n",
      "0.7777330450749999\n"
     ]
    }
   ],
   "source": [
    "#7\n",
    "\n",
    "step, state_1 = 6, 14\n",
    "\n",
    "matrix = np.copy(trans_mat)\n",
    "probbb = t_prob\n",
    "result = []\n",
    "\n",
    "\n",
    "\n",
    "makyr2(step)\n",
    "    \n",
    "\n",
    "print(f\"\\n7. вероятность возвращения в состояние {state_1} не позднее чем за {step} шагов\")\n",
    "print((sum(result)[state_1 - 1]))"
   ]
  },
  {
   "cell_type": "code",
   "execution_count": 20,
   "metadata": {},
   "outputs": [
    {
     "name": "stdout",
     "output_type": "stream",
     "text": [
      "\n",
      "8. среднее время возвращения в состояние 4\n",
      "44.894435585834685\n"
     ]
    }
   ],
   "source": [
    "#8\n",
    "\n",
    "state_1 = 4\n",
    "\n",
    "matrix = np.copy(trans_mat)\n",
    "probbb = t_prob\n",
    "result = []\n",
    "\n",
    "\n",
    "\n",
    "makyr3(993)\n",
    "\n",
    "print(f\"\\n8. среднее время возвращения в состояние {state_1}\")\n",
    "print((sum(result)[state_1 - 1]))"
   ]
  },
  {
   "cell_type": "code",
   "execution_count": 21,
   "metadata": {},
   "outputs": [
    {
     "name": "stdout",
     "output_type": "stream",
     "text": [
      "\n",
      "9. установившиеся вероятности:\n",
      "[0.01626267 0.00889428 0.02142005 0.02226952 0.03230913 0.0569165\n",
      " 0.0060878  0.05121978 0.17592987 0.12308234 0.01295739 0.17368193\n",
      " 0.10508941 0.19128785 0.00259148]\n"
     ]
    }
   ],
   "source": [
    "#9\n",
    "\n",
    "matrix = np.copy(trans_mat).transpose()\n",
    "np.fill_diagonal(matrix, np.diagonal(matrix) - 1)\n",
    "matrix[-1, :] = 1\n",
    "\n",
    "vect = np.zeros(len(matrix))\n",
    "vect[-1] = 1\n",
    "\n",
    "\n",
    "    \n",
    "print(\"\\n9. установившиеся вероятности:\")\n",
    "print((np.linalg.inv(matrix).dot(vect)))"
   ]
  },
  {
   "cell_type": "markdown",
   "metadata": {},
   "source": [
    "Задание 2\n",
    "\n",
    "Задана система массового обслуживания со следующими характеристиками:\n",
    "• интенсивность поступления λ=29\n",
    "• каналов обслуживания m=2\n",
    "• интенсивность обслуживания μ=18\n",
    "• максимальный размер очереди n=18\n",
    "Изначально требований в системе нет."
   ]
  },
  {
   "cell_type": "code",
   "execution_count": 22,
   "metadata": {},
   "outputs": [],
   "source": [
    "def init_matrix(n, m, la, mu):\n",
    "    size = n + m + 1\n",
    "    matrix = np.zeros((size, size))\n",
    "    np.fill_diagonal(matrix[:, 1:], la)\n",
    "    np.fill_diagonal(matrix[1:, :], [*[i * mu for i in range(1, m)], *[m * mu for j in range(n + 1)]])\n",
    "    return matrix"
   ]
  },
  {
   "cell_type": "code",
   "execution_count": 23,
   "metadata": {},
   "outputs": [
    {
     "name": "stdout",
     "output_type": "stream",
     "text": [
      "[[ 0. 29.  0.  0.  0.  0.  0.  0.  0.  0.  0.  0.  0.  0.  0.  0.  0.  0.\n",
      "   0.  0.  0.]\n",
      " [18.  0. 29.  0.  0.  0.  0.  0.  0.  0.  0.  0.  0.  0.  0.  0.  0.  0.\n",
      "   0.  0.  0.]\n",
      " [ 0. 36.  0. 29.  0.  0.  0.  0.  0.  0.  0.  0.  0.  0.  0.  0.  0.  0.\n",
      "   0.  0.  0.]\n",
      " [ 0.  0. 36.  0. 29.  0.  0.  0.  0.  0.  0.  0.  0.  0.  0.  0.  0.  0.\n",
      "   0.  0.  0.]\n",
      " [ 0.  0.  0. 36.  0. 29.  0.  0.  0.  0.  0.  0.  0.  0.  0.  0.  0.  0.\n",
      "   0.  0.  0.]\n",
      " [ 0.  0.  0.  0. 36.  0. 29.  0.  0.  0.  0.  0.  0.  0.  0.  0.  0.  0.\n",
      "   0.  0.  0.]\n",
      " [ 0.  0.  0.  0.  0. 36.  0. 29.  0.  0.  0.  0.  0.  0.  0.  0.  0.  0.\n",
      "   0.  0.  0.]\n",
      " [ 0.  0.  0.  0.  0.  0. 36.  0. 29.  0.  0.  0.  0.  0.  0.  0.  0.  0.\n",
      "   0.  0.  0.]\n",
      " [ 0.  0.  0.  0.  0.  0.  0. 36.  0. 29.  0.  0.  0.  0.  0.  0.  0.  0.\n",
      "   0.  0.  0.]\n",
      " [ 0.  0.  0.  0.  0.  0.  0.  0. 36.  0. 29.  0.  0.  0.  0.  0.  0.  0.\n",
      "   0.  0.  0.]\n",
      " [ 0.  0.  0.  0.  0.  0.  0.  0.  0. 36.  0. 29.  0.  0.  0.  0.  0.  0.\n",
      "   0.  0.  0.]\n",
      " [ 0.  0.  0.  0.  0.  0.  0.  0.  0.  0. 36.  0. 29.  0.  0.  0.  0.  0.\n",
      "   0.  0.  0.]\n",
      " [ 0.  0.  0.  0.  0.  0.  0.  0.  0.  0.  0. 36.  0. 29.  0.  0.  0.  0.\n",
      "   0.  0.  0.]\n",
      " [ 0.  0.  0.  0.  0.  0.  0.  0.  0.  0.  0.  0. 36.  0. 29.  0.  0.  0.\n",
      "   0.  0.  0.]\n",
      " [ 0.  0.  0.  0.  0.  0.  0.  0.  0.  0.  0.  0.  0. 36.  0. 29.  0.  0.\n",
      "   0.  0.  0.]\n",
      " [ 0.  0.  0.  0.  0.  0.  0.  0.  0.  0.  0.  0.  0.  0. 36.  0. 29.  0.\n",
      "   0.  0.  0.]\n",
      " [ 0.  0.  0.  0.  0.  0.  0.  0.  0.  0.  0.  0.  0.  0.  0. 36.  0. 29.\n",
      "   0.  0.  0.]\n",
      " [ 0.  0.  0.  0.  0.  0.  0.  0.  0.  0.  0.  0.  0.  0.  0.  0. 36.  0.\n",
      "  29.  0.  0.]\n",
      " [ 0.  0.  0.  0.  0.  0.  0.  0.  0.  0.  0.  0.  0.  0.  0.  0.  0. 36.\n",
      "   0. 29.  0.]\n",
      " [ 0.  0.  0.  0.  0.  0.  0.  0.  0.  0.  0.  0.  0.  0.  0.  0.  0.  0.\n",
      "  36.  0. 29.]\n",
      " [ 0.  0.  0.  0.  0.  0.  0.  0.  0.  0.  0.  0.  0.  0.  0.  0.  0.  0.\n",
      "   0. 36.  0.]]\n"
     ]
    }
   ],
   "source": [
    "la = 29\n",
    "m = 2\n",
    "mu = 18\n",
    "n = 18\n",
    "matrix = init_matrix(n, m, la, mu)\n",
    "print(matrix)"
   ]
  },
  {
   "cell_type": "code",
   "execution_count": 24,
   "metadata": {},
   "outputs": [
    {
     "name": "stdout",
     "output_type": "stream",
     "text": [
      "\n",
      "a) Составьте граф марковского процесса, запишите систему уравнений Колмогорова и найдите установившиеся вероятности состояний:\n",
      "[0.10897988 0.17557869 0.14143839 0.11393648 0.09178217 0.07393563\n",
      " 0.05955926 0.04797829 0.03864918 0.03113406 0.02508022 0.02020351\n",
      " 0.01627505 0.01311046 0.0105612  0.00850763 0.00685337 0.00552077\n",
      " 0.00444729 0.00358254 0.00288593]\n"
     ]
    }
   ],
   "source": [
    "#1\n",
    "\n",
    "\n",
    "t_matrix = np.copy(matrix).transpose()\n",
    "np.fill_diagonal(t_matrix, [-sum(t_matrix[:, i]) for i in range(len(matrix))])\n",
    "t_matrix[-1, :] = 1\n",
    "\n",
    "vect = np.zeros(len(matrix))\n",
    "vect[-1] = 1\n",
    "\n",
    "st_state=np.linalg.inv(t_matrix).dot(vect)\n",
    "\n",
    "print(\"\\na) Составьте граф марковского процесса, запишите систему уравнений Колмогорова и \"\n",
    "      \"найдите установившиеся вероятности состояний:\")\n",
    "print(st_state)"
   ]
  },
  {
   "cell_type": "code",
   "execution_count": 25,
   "metadata": {},
   "outputs": [
    {
     "name": "stdout",
     "output_type": "stream",
     "text": [
      "\n",
      "b) Найдите вероятность отказа в обслуживании:\n",
      "0.0028859330714219667\n"
     ]
    }
   ],
   "source": [
    "#2\n",
    "\n",
    "\n",
    "print(\"\\nb) Найдите вероятность отказа в обслуживании:\")\n",
    "print((st_state[-1]))"
   ]
  },
  {
   "cell_type": "code",
   "execution_count": 26,
   "metadata": {},
   "outputs": [
    {
     "name": "stdout",
     "output_type": "stream",
     "text": [
      "\n",
      "c) Найдите относительную и абсолютную интенсивность обслуживания:\n",
      "(0.9971140669285781, 28.916307940928764)\n"
     ]
    }
   ],
   "source": [
    "#3\n",
    "\n",
    "\n",
    "print(\"\\nc) Найдите относительную и абсолютную интенсивность обслуживания:\")\n",
    "\n",
    "relative = 1 - st_state[-1]\n",
    "absolute=relative * la\n",
    "\n",
    "print((relative, absolute))"
   ]
  },
  {
   "cell_type": "code",
   "execution_count": 27,
   "metadata": {},
   "outputs": [
    {
     "name": "stdout",
     "output_type": "stream",
     "text": [
      "\n",
      "d) Найдите среднюю длину в очереди:\n",
      "2.736807478673057\n"
     ]
    }
   ],
   "source": [
    "#4\n",
    "\n",
    "\n",
    "print(\"\\nd) Найдите среднюю длину в очереди:\")\n",
    "print((sum((i * st_state[m + i]) for i in range(1, n + 1))))"
   ]
  },
  {
   "cell_type": "code",
   "execution_count": 28,
   "metadata": {},
   "outputs": [
    {
     "name": "stdout",
     "output_type": "stream",
     "text": [
      "\n",
      "e) Найдите среднее время в очереди:\n",
      "0.09437267167838125\n"
     ]
    }
   ],
   "source": [
    "#5\n",
    "\n",
    "\n",
    "print(\"\\ne) Найдите среднее время в очереди:\")\n",
    "print((sum(((i + 1) / (m * mu) * st_state[m + i]) for i in range(n))))"
   ]
  },
  {
   "cell_type": "code",
   "execution_count": 29,
   "metadata": {},
   "outputs": [
    {
     "name": "stdout",
     "output_type": "stream",
     "text": [
      "\n",
      "f) Найдите среднее число занятых каналов:\n",
      "1.6064615522738208\n"
     ]
    }
   ],
   "source": [
    "#6\n",
    "\n",
    "\n",
    "print(\"\\nf) Найдите среднее число занятых каналов:\")\n",
    "print(((sum((i * st_state[i]) for i in range(1, m + 1)) + sum((m * st_state[i]) for i in range(m + 1, m + n + 1)))))"
   ]
  },
  {
   "cell_type": "code",
   "execution_count": 30,
   "metadata": {},
   "outputs": [
    {
     "name": "stdout",
     "output_type": "stream",
     "text": [
      "\n",
      "g) Найдите вероятность того, что поступающая заявка не будет ждать в очереди:\n",
      "0.28455856989431466\n"
     ]
    }
   ],
   "source": [
    "#7\n",
    "\n",
    "\n",
    "print(\"\\ng) Найдите вероятность того, что поступающая заявка не будет ждать в очереди:\")\n",
    "print((sum(st_state[:m])))"
   ]
  },
  {
   "cell_type": "code",
   "execution_count": 31,
   "metadata": {},
   "outputs": [
    {
     "name": "stdout",
     "output_type": "stream",
     "text": [
      "\n",
      "h) Найти среднее время простоя системы массового обслуживания:\n",
      "0.034482758620689655\n"
     ]
    }
   ],
   "source": [
    "#8\n",
    "\n",
    "\n",
    "print(\"\\nh) Найти среднее время простоя системы массового обслуживания:\")\n",
    "\n",
    "print((1 / np.sum(matrix, axis=1))[0])"
   ]
  }
 ],
 "metadata": {
  "kernelspec": {
   "display_name": "Python 3",
   "language": "python",
   "name": "python3"
  },
  "language_info": {
   "codemirror_mode": {
    "name": "ipython",
    "version": 3
   },
   "file_extension": ".py",
   "mimetype": "text/x-python",
   "name": "python",
   "nbconvert_exporter": "python",
   "pygments_lexer": "ipython3",
   "version": "3.7.6"
  }
 },
 "nbformat": 4,
 "nbformat_minor": 4
}
